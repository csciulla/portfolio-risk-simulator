{
  "cells": [
    {
      "cell_type": "markdown",
      "metadata": {
        "colab_type": "text",
        "id": "view-in-github"
      },
      "source": [
        "<a href=\"https://colab.research.google.com/github/csciulla/stress-test-dashboard/blob/main/stresstest_ntbk.ipynb\" target=\"_parent\"><img src=\"https://colab.research.google.com/assets/colab-badge.svg\" alt=\"Open In Colab\"/></a>"
      ]
    },
    {
      "cell_type": "code",
      "execution_count": 3,
      "metadata": {
        "id": "cLI8WY6CEmZc"
      },
      "outputs": [],
      "source": [
        "import pandas as pd\n",
        "import numpy as np\n",
        "import yfinance as yf\n",
        "from scipy.optimize import minimize"
      ]
    },
    {
      "cell_type": "code",
      "execution_count": 5,
      "metadata": {
        "id": "DqxxkxH4FMGT"
      },
      "outputs": [],
      "source": [
        "class Portfolio:\n",
        "  def __init__(self, portfolio:list,  lower_bound:float, upper_bound:float):\n",
        "    try:\n",
        "      if lower_bound >= upper_bound:\n",
        "        raise ValueError(\"Lower bound must be less than upper bound.\")\n",
        "\n",
        "      self.portfolio = portfolio\n",
        "      self.weights = None\n",
        "      self.dfclose = None\n",
        "      self.lower_bound = lower_bound\n",
        "      self.upper_bound = upper_bound\n",
        "\n",
        "    except Exception as e:\n",
        "      print(f\"Error in intializer function: {e}\")\n",
        "      return None\n",
        "\n",
        "  def get_data(self, period:str=None, start_date:str=None, end_date:str=None):\n",
        "    \"\"\"\n",
        "    Downloads the portfolios adjusted closes either by 'period' or 'start_date' and 'end_date'.\n",
        "    Only one method of date input should be provided.\n",
        "    Data downloaded should be big enough to handle calculations.\n",
        "    \"\"\"\n",
        "    try:\n",
        "      if period and (start_date or end_date): #checks if both methods of date input are used\n",
        "        raise ValueError(\"Provide either 'period' OR both 'start_date' and 'end_date' -- not both.\")\n",
        "\n",
        "      if period:\n",
        "        period = period.strip()\n",
        "        self.dfclose = yf.download(self.portfolio, period=period, progress=False, auto_adjust=False)[\"Adj Close\"]\n",
        "      elif start_date and end_date:\n",
        "        start_date = start_date.strip()\n",
        "        end_date = end_date.strip()\n",
        "        self.dfclose = yf.download(self.portfolio, start=start_date, end=end_date, progress=False, auto_adjust=False)[\"Adj Close\"]\n",
        "      else:\n",
        "        raise ValueError(\"You must provide either a 'period' or both 'start_date' and 'end_date'.\")\n",
        "\n",
        "      if self.dfclose.empty or self.dfclose is None:\n",
        "        raise ValueError(\"Downloaded price data is empty or unavailable.\")\n",
        "      elif len(self.dfclose) <= 2:\n",
        "        raise ValueError(\"Downloaded price data is too short.\")\n",
        "      elif len(self.dfclose) < 21: #average trading days in a month\n",
        "        print(\"Warning: Limited price history may lead to unreliable metrics.\")\n",
        "\n",
        "      return self.dfclose\n",
        "\n",
        "    except Exception as e:\n",
        "      print(f\"Error in get_data: {e}\")\n",
        "      return None\n",
        "\n",
        "  def get_weights(self, type_weight:str):\n",
        "    \"\"\"\n",
        "    Returns a list of weights for the portfolio.\n",
        "\n",
        "    type_weight: Input 'eq' for equal-weighted portfolio or 'opt' for optimized weights based on sharpe-ratio\n",
        "    \"\"\"\n",
        "    try:\n",
        "      dfclose = self.dfclose\n",
        "      if dfclose is None or dfclose.empty:\n",
        "        raise ValueError(\"The portfolio's price data is missing. Please properly run 'get_data' first.\")\n",
        "      elif len(dfclose) <= 2:\n",
        "        raise ValueError(\"Downloaded price data is too short.\")\n",
        "\n",
        "      #Get log returns of each asset\n",
        "      log_returns = np.log(dfclose/dfclose.shift()).dropna()\n",
        "\n",
        "      #Calculate initial portfolio metrics\n",
        "      weights = np.repeat(1/len(self.portfolio), len(self.portfolio))\n",
        "      expected_returns = log_returns.mean()*252\n",
        "      port_returns = weights.T @ expected_returns\n",
        "      cov_matrix = log_returns.cov()*252\n",
        "      port_vol = np.sqrt(weights.T @ cov_matrix @ weights)\n",
        "      rf = 0.045\n",
        "\n",
        "      #Set bounds and constraints for objective function\n",
        "      bounds = [(self.lower_bound, self.upper_bound) for _ in range(len(self.portfolio))]\n",
        "      constraints = {\"type\": \"eq\", \"fun\": lambda w: np.sum(w)-1}\n",
        "      def neg_sharpe(w):\n",
        "        port_ret = w.T @ expected_returns\n",
        "        port_std = np.sqrt(w.T @ cov_matrix @ w)\n",
        "        return -((port_ret - rf)/port_std)\n",
        "\n",
        "      if type_weight.strip().lower() == \"eq\":\n",
        "        self.weights = [float(i) for i in weights]\n",
        "      elif type_weight.strip().lower() == \"opt\":\n",
        "        optimized_weights = minimize(neg_sharpe, weights, method=\"SLSQP\", bounds=bounds, constraints=constraints)\n",
        "        self.weights = [round(float(i),4) for i in optimized_weights.x]\n",
        "      else:\n",
        "        raise ValueError(\"Select a valid input for 'type_weight' -- either 'eq' or 'opt'.\")\n",
        "\n",
        "      return self.weights\n",
        "\n",
        "    except Exception as e:\n",
        "      print(f\"Error in get_weights: {e}\")\n",
        "      return None\n"
      ]
    },
    {
      "cell_type": "code",
      "execution_count": 20,
      "metadata": {
        "colab": {
          "base_uri": "https://localhost:8080/"
        },
        "id": "zrPonahsNZiJ",
        "outputId": "64abc5c7-a2ca-43e2-f7ff-9d3206b7cf88"
      },
      "outputs": [
        {
          "name": "stdout",
          "output_type": "stream",
          "text": [
            "Error in intializer function: Lower bound must be less than upper bound.\n",
            "Error in get_data: 'Portfolio' object has no attribute 'portfolio'\n",
            "Error in get_weights: 'Portfolio' object has no attribute 'dfclose'\n"
          ]
        }
      ],
      "source": [
        "#test weights\n",
        "test = Portfolio([\"AAPL\", \"MSFT\", \"GOOG\", \"JNJ\", \"XOM\"], 0.6, 0.5)\n",
        "test.get_data(start_date='2025-06-25  ', end_date=' 2025-06-28')\n",
        "test.get_weights(\"opt  \")"
      ]
    },
    {
      "cell_type": "code",
      "execution_count": 26,
      "metadata": {
        "id": "Nz7s7C0VPA00"
      },
      "outputs": [],
      "source": [
        "def monte_carlo(T:int, sims:int, vol_mult:float, df:pd.DataFrame, method:str, rand:str=None ):\n",
        "  \"\"\"\n",
        "  Returns simulated prices for each ticker in the portfolio either using Monte Carlo or Bootstrapping.\n",
        "\n",
        "  T: number of days in a path\n",
        "  sims: number of paths\n",
        "  vol_mult: multiplier that affects volatilty to inject stress\n",
        "  df: dataframe of the assets adjusted closes\n",
        "  method: input the string 'mc' to simulate returns assuming a t-distribution; input the string 'boot' to simulate unparamterized returns.\n",
        "  rand: input the string 'yes' to return a random path, otherwise ignore\n",
        "  \"\"\"\n",
        "  try:\n",
        "    if T <= 2:\n",
        "      raise ValueError(\"The length of each simulated path is too short.\")\n",
        "    elif T < 21:\n",
        "      print(\"Warning: Limited price data may lead to unreliable metrics.\")\n",
        "\n",
        "    #Intialize dictionary to store simulated paths of T days for each ticker\n",
        "    sims_prices = {ticker: np.full(shape=(sims, T), fill_value=0.0) for ticker in df.columns}\n",
        "\n",
        "    method = method.strip().lower()\n",
        "\n",
        "    #Gather inital metrics from historical data for each ticker\n",
        "    for ticker in df.columns:\n",
        "      last_price = df[ticker].iloc[-1]\n",
        "      log_returns = np.log(df[ticker]/df[ticker].shift()).dropna()\n",
        "      expected_return = log_returns.mean()\n",
        "      target_vol = log_returns.std()*vol_mult\n",
        "\n",
        "      #Generate paths\n",
        "      for m in range(sims):\n",
        "        if method == \"mc\":\n",
        "          dailyReturns = np.random.standard_t(df=5, size=T) * target_vol + expected_return\n",
        "          dailyReturns = np.clip(dailyReturns, -0.95, 0.95) #Removes extremely disoriented returns caused by fat tails\n",
        "        elif method == \"boot\":\n",
        "          dailyReturns = np.random.choice(log_returns.values, size=T, replace=True)\n",
        "          boot_vol = dailyReturns.std()\n",
        "          dailyReturns = (dailyReturns - dailyReturns.mean()) * (target_vol/boot_vol) + dailyReturns.mean() #Scaling bootstrapped returns \n",
        "        else:\n",
        "          raise ValueError(\"Invaild input for 'method'. Input 'mc' or 'boot'.\")\n",
        "        \n",
        "        cumReturns = (1+dailyReturns).cumprod()\n",
        "        prices = last_price*cumReturns\n",
        "        sims_prices[ticker][m:,] = prices\n",
        "\n",
        "    #Get a random path\n",
        "    if isinstance(rand, str) and rand.strip().lower() == \"yes\":\n",
        "      random_int = np.random.randint(0,sims)\n",
        "      random_sims_prices = {ticker: sims_prices[ticker][random_int] for ticker in df.columns}\n",
        "      random_sims_df = pd.DataFrame(random_sims_prices)\n",
        "      return random_sims_df\n",
        "    elif rand != None:\n",
        "      raise ValueError(\"Invaild input for 'rand'. Input the string 'yes' to return a random path, otherwise ignore.\")\n",
        "    else:\n",
        "        return sims_prices\n",
        "\n",
        "  except Exception as e:\n",
        "    print(f\"Error in monte_carlo: {e}\")\n",
        "    return None"
      ]
    },
    {
      "cell_type": "code",
      "execution_count": 125,
      "metadata": {
        "colab": {
          "base_uri": "https://localhost:8080/"
        },
        "id": "bYrJFSuxopXP",
        "outputId": "9a4d3889-0130-47d2-f823-046893a326e1"
      },
      "outputs": [
        {
          "name": "stdout",
          "output_type": "stream",
          "text": [
            "Warning: Limited price data may lead to unreliable metrics.\n"
          ]
        }
      ],
      "source": [
        "df = test.get_data(period='5y')\n",
        "sims = monte_carlo(3,1,2,df, \" Yes\")"
      ]
    },
    {
      "cell_type": "code",
      "execution_count": 7,
      "metadata": {
        "id": "WBjYP6uUOuJy"
      },
      "outputs": [],
      "source": [
        "def calculate_metrics(weights:list, df: pd.DataFrame):\n",
        "  \"\"\"\n",
        "  Calculates annual portfolio volatilty, Sharpe Ratio, 95% VaR, Max Drawdown, and Beta.\n",
        "  weights: list of each assets weight in the portfolio\n",
        "  df: dataframe of the assets adjusted closes\n",
        "  \"\"\"\n",
        "  try:\n",
        "    if df is None or df.empty:\n",
        "      raise ValueError(\"Price data is empty or unavailable. Make sure historical/simulated data is properly downloaded.\")\n",
        "\n",
        "    #Core calculations\n",
        "    weights = np.array(weights)\n",
        "    log_returns = np.log(df/df.shift()).dropna()\n",
        "    expected_returns = log_returns.mean()*252\n",
        "    cov_matrix = log_returns.cov()*252\n",
        "    rf = 0.045\n",
        "    port_returns = weights.T @ expected_returns\n",
        "    port_returns_series = log_returns @ weights\n",
        "\n",
        "    #Metrics\n",
        "    port_vol = np.sqrt(weights.T @ cov_matrix @ weights)\n",
        "    sharpe = (port_returns - rf)/port_vol\n",
        "    VaR_95 = np.percentile(port_returns_series, 5)\n",
        "\n",
        "    #Max Drawdown\n",
        "    cum_returns = (1+port_returns_series).cumprod()\n",
        "    cum_max = np.maximum.accumulate(cum_returns)\n",
        "    drawdown = cum_returns/cum_max - 1\n",
        "    mdd = drawdown.min() #drawdown values are negative\n",
        "\n",
        "    #Beta\n",
        "    market = yf.download(\"SPY\", period='10y', progress=False, auto_adjust=False)[\"Adj Close\"]\n",
        "    market_returns = (np.log(market/market.shift()).dropna()).squeeze() #convert to series so that it works properly with port_returns_series\n",
        "    if pd.api.types.is_integer_dtype(port_returns_series.index):\n",
        "      #Simulated case: align by length\n",
        "      market_returns = market_returns.tail(len(port_returns_series)).reset_index(drop=True)\n",
        "      port_returns_series = port_returns_series.reset_index(drop=True)\n",
        "    else:\n",
        "      #Simulated historical case: align by date\n",
        "      start_date = pd.to_datetime(port_returns_series.index[0])\n",
        "      end_date = pd.to_datetime(port_returns_series.index[-1])\n",
        "      if start_date and end_date not in market_returns.index: #first make sure that market data contains crisis event\n",
        "        market = yf.download(\"SPY\", start=start_date, end=end_date, progress=False, auto_adjust=False)[\"Adj Close\"]\n",
        "        market_returns = (np.log(market/market.shift()).dropna()).squeeze()\n",
        "\n",
        "      #align by date for either simulated historical or historical case\n",
        "      aligned_index = port_returns_series.index.intersection(market_returns.index)\n",
        "      market_returns = market_returns.loc[aligned_index]\n",
        "      port_returns_series = port_returns_series.loc[aligned_index]\n",
        "    beta = port_returns_series.cov(market_returns) / market_returns.var()\n",
        "\n",
        "    metrics = pd.DataFrame(data=[[port_vol, sharpe, VaR_95, mdd, beta]] ,columns=[\"Annual Volatilty\", \"Sharpe\",\"95% VaR\", \"Max DD\", \"Beta\"], index=[[\"Portfolio\"]])\n",
        "    return metrics\n",
        "\n",
        "  except Exception as e:\n",
        "    print(f\"Error in calculate_metrics: {e}\")\n",
        "    return None\n"
      ]
    },
    {
      "cell_type": "code",
      "execution_count": 28,
      "metadata": {
        "colab": {
          "base_uri": "https://localhost:8080/"
        },
        "id": "qPEDH1CnO54O",
        "outputId": "d87de544-986b-4ba1-fea5-9e7f73836edd"
      },
      "outputs": [
        {
          "name": "stderr",
          "output_type": "stream",
          "text": [
            "[*********************100%***********************]  5 of 5 completed\n"
          ]
        },
        {
          "name": "stdout",
          "output_type": "stream",
          "text": [
            "                 Annual Volatilty    Sharpe   95% VaR    Max DD      Beta\n",
            "Worst Portfolio          0.615493 -1.329264 -0.063821 -0.734568  0.306319\n",
            "                Annual Volatilty    Sharpe   95% VaR    Max DD      Beta\n",
            "Best Portfolio          0.633859  0.060388 -0.054374 -0.399719  0.078192\n"
          ]
        }
      ],
      "source": [
        "#test the simulated max and min sharpe metrics\n",
        "df = yf.download([\"AAPL\", \"MSFT\",\"TSLA\",\"INTL\",\"GOOG\"], period='10y', auto_adjust=False)[\"Adj Close\"]\n",
        "sims = monte_carlo(252,50,4.0, df, 'boot')\n",
        "tickers = list(df.columns)\n",
        "pathlen = len(sims[tickers[0]])\n",
        "all_metrics = []\n",
        "for m in range(pathlen):\n",
        "  mth_df = pd.DataFrame({ticker: sims[ticker][m] for ticker in tickers})\n",
        "  metrics = calculate_metrics([0.0, 0.137, 0.363, 0.5, 0.0], mth_df)\n",
        "  all_metrics.append(metrics)\n",
        "sharpes = [df.loc[\"Portfolio\", \"Sharpe\"] for df in all_metrics]\n",
        "min_idx = np.argmin(sharpes)\n",
        "max_idx = np.argmax(sharpes)\n",
        "all_metrics[min_idx].index = [\"Worst Portfolio\"]\n",
        "all_metrics[max_idx].index = [\"Best Portfolio\"]\n",
        "print(all_metrics[min_idx])\n",
        "print(all_metrics[max_idx])"
      ]
    },
    {
      "cell_type": "code",
      "execution_count": 113,
      "metadata": {
        "id": "vhhEAq3-SESm"
      },
      "outputs": [],
      "source": [
        "def historical(df:pd.DataFrame, crisis:str):\n",
        "  \"\"\"\n",
        "  Simulates the prices of your portfolio if a historical event were to happen again.\n",
        "\n",
        "  df: dataframe of the assets adjusted closes\n",
        "  crisis: string of the event you want to simulate\n",
        "\n",
        "  Crisis Options:\n",
        "  \"DOT-COM\" -- The Dot-Com bubble\n",
        "  \"2008 GFC\" -- 2008 Global Financial Crisis\n",
        "  \"2011 Euro\" -- 2011 Eurozone Crisis\n",
        "  \"COVID\" -- COVID-19 Pandemic\n",
        "  \"2022 Inf\" -- 2022 Inflation Crash\n",
        "  \"\"\"\n",
        "  try:\n",
        "    crisis_periods = {\"DOT-COM\": (\"2000-03-01\", \"2002-10-01\"),\n",
        "                      \"2008 GFC\": (\"2007-10-01\", \"2009-03-01\"),\n",
        "                      \"2011 Euro\": (\"2011-07-01\", \"2011-12-01\"),\n",
        "                      \"COVID\": (\"2020-02-14\", \"2020-04-15\"),\n",
        "                      \"2022 Inf\": (\"2022-01-01\", \"2022-10-01\")\n",
        "                      }\n",
        "    crisis = crisis.strip()\n",
        "    if crisis not in crisis_periods.keys():\n",
        "      raise ValueError(\"Input a valid crisis event.\")\n",
        "\n",
        "    tickers = list(df.columns)\n",
        "    start_date = pd.to_datetime(crisis_periods[crisis][0])\n",
        "    end_date = pd.to_datetime(crisis_periods[crisis][1])\n",
        "\n",
        "    if start_date not in df.index: #check if crisis event does not exist in existing df\n",
        "      dfcrisis = yf.download(tickers, start=start_date, end=end_date, progress=False, auto_adjust=False)[\"Adj Close\"]\n",
        "    else:\n",
        "      dfcrisis = df.loc[start_date:end_date]\n",
        "\n",
        "    for ticker in tickers:\n",
        "      if dfcrisis[ticker].isna().sum() >= len(dfcrisis[ticker])//3: #checks if any ticker reaches NA threshold\n",
        "        raise ValueError(f\"{ticker} price data does not exist for crisis period.\")\n",
        "\n",
        "    last_price = df.iloc[-1]\n",
        "    crisisReturns = np.log(dfcrisis/dfcrisis.shift()).dropna()\n",
        "    cumReturns = (1+crisisReturns).cumprod()\n",
        "    crisisPrices = last_price.mul(cumReturns)\n",
        "    return crisisPrices\n",
        "\n",
        "  except Exception as e:\n",
        "    print(f\" \\n Error in historical: {e}\")\n",
        "    return None"
      ]
    },
    {
      "cell_type": "code",
      "execution_count": 139,
      "metadata": {
        "colab": {
          "base_uri": "https://localhost:8080/",
          "height": 98
        },
        "id": "B-qNv5CHoCLc",
        "outputId": "bb59e533-9814-4e1b-fff4-ca13596e8713"
      },
      "outputs": [
        {
          "name": "stderr",
          "output_type": "stream",
          "text": [
            "[*********************100%***********************]  5 of 5 completed\n"
          ]
        },
        {
          "data": {
            "application/vnd.google.colaboratory.intrinsic+json": {
              "summary": "{\n  \"name\": \"calculate_metrics([0\",\n  \"rows\": 1,\n  \"fields\": [\n    {\n      \"column\": \"Annual Volatilty\",\n      \"properties\": {\n        \"dtype\": \"number\",\n        \"std\": null,\n        \"min\": 0.8299484010386259,\n        \"max\": 0.8299484010386259,\n        \"num_unique_values\": 1,\n        \"samples\": [\n          0.8299484010386259\n        ],\n        \"semantic_type\": \"\",\n        \"description\": \"\"\n      }\n    },\n    {\n      \"column\": \"Sharpe\",\n      \"properties\": {\n        \"dtype\": \"number\",\n        \"std\": null,\n        \"min\": -2.3564057635514293,\n        \"max\": -2.3564057635514293,\n        \"num_unique_values\": 1,\n        \"samples\": [\n          -2.3564057635514293\n        ],\n        \"semantic_type\": \"\",\n        \"description\": \"\"\n      }\n    },\n    {\n      \"column\": \"95% VaR\",\n      \"properties\": {\n        \"dtype\": \"number\",\n        \"std\": null,\n        \"min\": -0.10650229514081237,\n        \"max\": -0.10650229514081237,\n        \"num_unique_values\": 1,\n        \"samples\": [\n          -0.10650229514081237\n        ],\n        \"semantic_type\": \"\",\n        \"description\": \"\"\n      }\n    },\n    {\n      \"column\": \"Max DD\",\n      \"properties\": {\n        \"dtype\": \"number\",\n        \"std\": null,\n        \"min\": -0.43915559469536325,\n        \"max\": -0.43915559469536325,\n        \"num_unique_values\": 1,\n        \"samples\": [\n          -0.43915559469536325\n        ],\n        \"semantic_type\": \"\",\n        \"description\": \"\"\n      }\n    },\n    {\n      \"column\": \"Beta\",\n      \"properties\": {\n        \"dtype\": \"number\",\n        \"std\": null,\n        \"min\": 1.0978922256609742,\n        \"max\": 1.0978922256609742,\n        \"num_unique_values\": 1,\n        \"samples\": [\n          1.0978922256609742\n        ],\n        \"semantic_type\": \"\",\n        \"description\": \"\"\n      }\n    }\n  ]\n}",
              "type": "dataframe"
            },
            "text/html": [
              "\n",
              "  <div id=\"df-9a096a41-19b6-43d2-a605-82ef41f91745\" class=\"colab-df-container\">\n",
              "    <div>\n",
              "<style scoped>\n",
              "    .dataframe tbody tr th:only-of-type {\n",
              "        vertical-align: middle;\n",
              "    }\n",
              "\n",
              "    .dataframe tbody tr th {\n",
              "        vertical-align: top;\n",
              "    }\n",
              "\n",
              "    .dataframe thead th {\n",
              "        text-align: right;\n",
              "    }\n",
              "</style>\n",
              "<table border=\"1\" class=\"dataframe\">\n",
              "  <thead>\n",
              "    <tr style=\"text-align: right;\">\n",
              "      <th></th>\n",
              "      <th>Annual Volatilty</th>\n",
              "      <th>Sharpe</th>\n",
              "      <th>95% VaR</th>\n",
              "      <th>Max DD</th>\n",
              "      <th>Beta</th>\n",
              "    </tr>\n",
              "  </thead>\n",
              "  <tbody>\n",
              "    <tr>\n",
              "      <th>Portfolio</th>\n",
              "      <td>0.829948</td>\n",
              "      <td>-2.356406</td>\n",
              "      <td>-0.106502</td>\n",
              "      <td>-0.439156</td>\n",
              "      <td>1.097892</td>\n",
              "    </tr>\n",
              "  </tbody>\n",
              "</table>\n",
              "</div>\n",
              "    <div class=\"colab-df-buttons\">\n",
              "\n",
              "  <div class=\"colab-df-container\">\n",
              "    <button class=\"colab-df-convert\" onclick=\"convertToInteractive('df-9a096a41-19b6-43d2-a605-82ef41f91745')\"\n",
              "            title=\"Convert this dataframe to an interactive table.\"\n",
              "            style=\"display:none;\">\n",
              "\n",
              "  <svg xmlns=\"http://www.w3.org/2000/svg\" height=\"24px\" viewBox=\"0 -960 960 960\">\n",
              "    <path d=\"M120-120v-720h720v720H120Zm60-500h600v-160H180v160Zm220 220h160v-160H400v160Zm0 220h160v-160H400v160ZM180-400h160v-160H180v160Zm440 0h160v-160H620v160ZM180-180h160v-160H180v160Zm440 0h160v-160H620v160Z\"/>\n",
              "  </svg>\n",
              "    </button>\n",
              "\n",
              "  <style>\n",
              "    .colab-df-container {\n",
              "      display:flex;\n",
              "      gap: 12px;\n",
              "    }\n",
              "\n",
              "    .colab-df-convert {\n",
              "      background-color: #E8F0FE;\n",
              "      border: none;\n",
              "      border-radius: 50%;\n",
              "      cursor: pointer;\n",
              "      display: none;\n",
              "      fill: #1967D2;\n",
              "      height: 32px;\n",
              "      padding: 0 0 0 0;\n",
              "      width: 32px;\n",
              "    }\n",
              "\n",
              "    .colab-df-convert:hover {\n",
              "      background-color: #E2EBFA;\n",
              "      box-shadow: 0px 1px 2px rgba(60, 64, 67, 0.3), 0px 1px 3px 1px rgba(60, 64, 67, 0.15);\n",
              "      fill: #174EA6;\n",
              "    }\n",
              "\n",
              "    .colab-df-buttons div {\n",
              "      margin-bottom: 4px;\n",
              "    }\n",
              "\n",
              "    [theme=dark] .colab-df-convert {\n",
              "      background-color: #3B4455;\n",
              "      fill: #D2E3FC;\n",
              "    }\n",
              "\n",
              "    [theme=dark] .colab-df-convert:hover {\n",
              "      background-color: #434B5C;\n",
              "      box-shadow: 0px 1px 3px 1px rgba(0, 0, 0, 0.15);\n",
              "      filter: drop-shadow(0px 1px 2px rgba(0, 0, 0, 0.3));\n",
              "      fill: #FFFFFF;\n",
              "    }\n",
              "  </style>\n",
              "\n",
              "    <script>\n",
              "      const buttonEl =\n",
              "        document.querySelector('#df-9a096a41-19b6-43d2-a605-82ef41f91745 button.colab-df-convert');\n",
              "      buttonEl.style.display =\n",
              "        google.colab.kernel.accessAllowed ? 'block' : 'none';\n",
              "\n",
              "      async function convertToInteractive(key) {\n",
              "        const element = document.querySelector('#df-9a096a41-19b6-43d2-a605-82ef41f91745');\n",
              "        const dataTable =\n",
              "          await google.colab.kernel.invokeFunction('convertToInteractive',\n",
              "                                                    [key], {});\n",
              "        if (!dataTable) return;\n",
              "\n",
              "        const docLinkHtml = 'Like what you see? Visit the ' +\n",
              "          '<a target=\"_blank\" href=https://colab.research.google.com/notebooks/data_table.ipynb>data table notebook</a>'\n",
              "          + ' to learn more about interactive tables.';\n",
              "        element.innerHTML = '';\n",
              "        dataTable['output_type'] = 'display_data';\n",
              "        await google.colab.output.renderOutput(dataTable, element);\n",
              "        const docLink = document.createElement('div');\n",
              "        docLink.innerHTML = docLinkHtml;\n",
              "        element.appendChild(docLink);\n",
              "      }\n",
              "    </script>\n",
              "  </div>\n",
              "\n",
              "\n",
              "    </div>\n",
              "  </div>\n"
            ],
            "text/plain": [
              "           Annual Volatilty    Sharpe   95% VaR    Max DD      Beta\n",
              "Portfolio          0.829948 -2.356406 -0.106502 -0.439156  1.097892"
            ]
          },
          "execution_count": 139,
          "metadata": {},
          "output_type": "execute_result"
        }
      ],
      "source": [
        "df = yf.download([\"AAPL\", \"MSFT\", \"GOOG\", \"JNJ\", \"XOM\"], period='10y', auto_adjust=False)[\"Adj Close\"]\n",
        "hist = historical(df, \"COVID\")\n",
        "calculate_metrics([0.0, 0.056, 0.0, 0.444, 0.5], hist)"
      ]
    },
    {
      "cell_type": "code",
      "execution_count": 1,
      "metadata": {
        "colab": {
          "base_uri": "https://localhost:8080/"
        },
        "id": "VDzH-XvNcDxV",
        "outputId": "2fb61a85-ce7e-4fc8-e8bd-11ea7fb521de"
      },
      "outputs": [
        {
          "data": {
            "text/plain": [
              "[\"'2020-01-01'\", \"'2025-01-01'\"]"
            ]
          },
          "execution_count": 1,
          "metadata": {},
          "output_type": "execute_result"
        }
      ],
      "source": [
        "[s.strip() for s in \"'2020-01-01', '2025-01-01'\".split(',')]"
      ]
    }
  ],
  "metadata": {
    "colab": {
      "authorship_tag": "ABX9TyMjeGxU8gQJHS+IGNW8Vz1s",
      "include_colab_link": true,
      "provenance": []
    },
    "kernelspec": {
      "display_name": "Python 3",
      "name": "python3"
    },
    "language_info": {
      "codemirror_mode": {
        "name": "ipython",
        "version": 3
      },
      "file_extension": ".py",
      "mimetype": "text/x-python",
      "name": "python",
      "nbconvert_exporter": "python",
      "pygments_lexer": "ipython3",
      "version": "3.12.1"
    }
  },
  "nbformat": 4,
  "nbformat_minor": 0
}
